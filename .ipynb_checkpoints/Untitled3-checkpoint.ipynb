{
 "cells": [
  {
   "cell_type": "code",
   "execution_count": 32,
   "id": "59c87050",
   "metadata": {},
   "outputs": [
    {
     "data": {
      "text/plain": [
       "True"
      ]
     },
     "execution_count": 32,
     "metadata": {},
     "output_type": "execute_result"
    }
   ],
   "source": [
    "# Initial imports\n",
    "import warnings\n",
    "warnings.filterwarnings('ignore')\n",
    "import os\n",
    "import requests\n",
    "import pandas as pd\n",
    "import numpy as np\n",
    "from dotenv import load_dotenv\n",
    "import alpaca_trade_api as tradeapi\n",
    "from MCForecastTools import MCSimulation\n",
    "import json\n",
    "# Initialize the Panel Extensions (for Plotly)\n",
    "import panel as pn\n",
    "pn.extension('plotly')\n",
    "import plotly.express as px\n",
    "import hvplot.pandas\n",
    "import matplotlib.pyplot as plt\n",
    "import os\n",
    "from pathlib import Path\n",
    "from dotenv import load_dotenv\n",
    "import ipywidgets as widgets\n",
    "from IPython.display import display\n",
    "%matplotlib inline\n",
    "#!pip install yfinance\n",
    "import yfinance as yf\n",
    "import datetime as dt\n",
    "pn.extension()\n",
    "# Load .env enviroment variables\n",
    "load_dotenv()\n"
   ]
  },
  {
   "cell_type": "code",
   "execution_count": null,
   "id": "187510a5",
   "metadata": {},
   "outputs": [],
   "source": []
  },
  {
   "cell_type": "code",
   "execution_count": 151,
   "id": "79607441",
   "metadata": {},
   "outputs": [],
   "source": [
    "# Define Parameters\n",
    "\n",
    "range_of_cryptos = [\"BTC-USD\", \"ETH-USD\", \"BNB-USD\", \"ADA-USD\", \"DOGE-USD\", \"XRP-USD\", \"LINK-USD\" , \"THETA-USD\", \"LTC-USD\", \"XLM-USD\"]\n",
    "range_of_stocks = [\"AMZN\", \"TSLA\", \"NEO\", \"AAPL\", \"XPENG\", \"BABA\", \"SNPWR\", \"NFLX\", \"DIS\", \"NIKE\"]\n",
    "\n",
    "# Define Functions\n",
    "\n",
    "#CALCULATE 1 YEARS BACK DATE\n",
    "def calc_1years_backdate():\n",
    "    end = dt.datetime.now()\n",
    "    start = end - dt.timedelta(days=365)\n",
    "    return start\n",
    "#CALCULATE 2 YEARS BACK DATE\n",
    "def calc_2years_backdate():\n",
    "    end = dt.datetime.now()\n",
    "    start = end - dt.timedelta(days=730)\n",
    "    return start\n",
    "#CALCULATE 3 YEARS BACK DATE\n",
    "def calc_3years_backdate():\n",
    "    end = dt.datetime.now()\n",
    "    start = end - dt.timedelta(days=1095)\n",
    "    df = df.dropna().copy()\n",
    "    return start\n",
    "#CALCULATE 5 YEARS BACK DATE\n",
    "def calc_3years_backdate():\n",
    "    end = dt.datetime.now()\n",
    "    start = end - dt.timedelta(days=1825)\n",
    "    df = df.dropna().copy()\n",
    "    return start\n",
    "\n",
    "#download crypto data and stock data for 5 years\n",
    "def download_cryptos_data(event):\n",
    "    start = calc_5years_backdate()\n",
    "    end = dt.datetime.now()\n",
    "    df = yf.download(range_of_cryptos, period = \"5y\", group_by = 'ticker', threads = False)\n",
    "    df = df.dropna().copy()\n",
    "    return df\n",
    "\n",
    "def download_stocks_data(event):\n",
    "    start = calc_5years_backdate()\n",
    "    end = dt.datetime.now()\n",
    "    df = yf.download(range_of_stocks, period = \"5y\", group_by = 'ticker', threads = False)\n",
    "    df = df.dropna().copy()\n",
    "    return df\n",
    "\n",
    "\n",
    "\n",
    "def daily_return_plot(df):\n",
    "    df = df.dropna().copy()    \n",
    "    plot = df['Close'].pct_change().hvplot.line(x=\"Date\", rot=45).opts(yformatter=\"%.0f\", xlabel=\"Time\", ylabel=\"Value\", title=\"Daily Return\", color=\"Red\")\n",
    "    return plot\n",
    "\n",
    "def cumulative_return_plot(df):\n",
    "    cumulative_returns = (1 + df['Close'].pct_change()).cumprod()\n",
    "    plot = cumulative_returns.hvplot.line(x=\"Date\", rot=45).opts(yformatter=\"%.0f\", xlabel=\"Time\", ylabel=\"Value\", title=\"Cumulative Return\", color=\"Blue\")\n",
    "    return plot\n",
    "\n",
    "\n",
    "def create_input():\n",
    "    # Input widgets\n",
    "    button = pn.widgets.Button(name='Fetch Crypto Data', button_type='primary')\n",
    "    stock_button = pn.widgets.Button(name='Fetch Stock Data', button_type='primary')\n",
    "    crypto_button.on_click(download_cryptos_data)\n",
    "    stock_button.on_click(download_stocks_data)\n",
    "    buton_row = pn.Row(crypto_button, stock_button)\n",
    "    \n",
    "    crypto_ticker = pn.widgets.Select(name='Crypto Tickes', options=range_of_cryptos)\n",
    "    crypto_year_slider = pn.widgets.IntSlider(name='Years of Crypto Data', start=0, end=3, step=1, value=1)\n",
    "    stock_ticker = pn.widgets.Select(name='Stock Tickers', options=range_of_stocks) \n",
    "    stock_year_slider = pn.widgets.IntSlider(name='Years of Stock Data', start=0, end=3, step=1, value=1)\n",
    "        \n",
    "    crypto_input = pn.Column(crypto_ticker, crypto_year_slider)\n",
    "    stock_input = pn.Column(stock_ticker, stock_year_slider)\n",
    "    parameter_row = pn.Row(crypto_input, stock_input)\n",
    "    \n",
    "    user_input_data = pn.Column(buton_row, parameter_row)\n",
    "    return user_input_data\n",
    "\n",
    "\n",
    "\n",
    "    "
   ]
  },
  {
   "cell_type": "code",
   "execution_count": 152,
   "id": "e422fcfc",
   "metadata": {},
   "outputs": [
    {
     "ename": "TypeError",
     "evalue": "on_click() takes 2 positional arguments but 3 were given",
     "output_type": "error",
     "traceback": [
      "\u001b[1;31m---------------------------------------------------------------------------\u001b[0m",
      "\u001b[1;31mTypeError\u001b[0m                                 Traceback (most recent call last)",
      "\u001b[1;32m<ipython-input-152-92cd1a9559f9>\u001b[0m in \u001b[0;36m<module>\u001b[1;34m\u001b[0m\n\u001b[0;32m      1\u001b[0m \u001b[1;31m# Create a Title for the Dashboard\u001b[0m\u001b[1;33m\u001b[0m\u001b[1;33m\u001b[0m\u001b[1;33m\u001b[0m\u001b[0m\n\u001b[1;32m----> 2\u001b[1;33m \u001b[0mcreate_input\u001b[0m\u001b[1;33m(\u001b[0m\u001b[1;33m)\u001b[0m\u001b[1;33m\u001b[0m\u001b[1;33m\u001b[0m\u001b[0m\n\u001b[0m",
      "\u001b[1;32m<ipython-input-151-393fb7092c2e>\u001b[0m in \u001b[0;36mcreate_input\u001b[1;34m()\u001b[0m\n\u001b[0;32m     61\u001b[0m     \u001b[0mbutton\u001b[0m \u001b[1;33m=\u001b[0m \u001b[0mpn\u001b[0m\u001b[1;33m.\u001b[0m\u001b[0mwidgets\u001b[0m\u001b[1;33m.\u001b[0m\u001b[0mButton\u001b[0m\u001b[1;33m(\u001b[0m\u001b[0mname\u001b[0m\u001b[1;33m=\u001b[0m\u001b[1;34m'Fetch Crypto Data'\u001b[0m\u001b[1;33m,\u001b[0m \u001b[0mbutton_type\u001b[0m\u001b[1;33m=\u001b[0m\u001b[1;34m'primary'\u001b[0m\u001b[1;33m)\u001b[0m\u001b[1;33m\u001b[0m\u001b[1;33m\u001b[0m\u001b[0m\n\u001b[0;32m     62\u001b[0m \u001b[1;33m\u001b[0m\u001b[0m\n\u001b[1;32m---> 63\u001b[1;33m     \u001b[0mbutton\u001b[0m\u001b[1;33m.\u001b[0m\u001b[0mon_click\u001b[0m\u001b[1;33m(\u001b[0m\u001b[0mdownload_cryptos_data\u001b[0m\u001b[1;33m,\u001b[0m \u001b[0mdownload_stocks_data\u001b[0m\u001b[1;33m)\u001b[0m\u001b[1;33m\u001b[0m\u001b[1;33m\u001b[0m\u001b[0m\n\u001b[0m\u001b[0;32m     64\u001b[0m \u001b[1;33m\u001b[0m\u001b[0m\n\u001b[0;32m     65\u001b[0m     \u001b[0mbuton_row\u001b[0m \u001b[1;33m=\u001b[0m \u001b[0mpn\u001b[0m\u001b[1;33m.\u001b[0m\u001b[0mRow\u001b[0m\u001b[1;33m(\u001b[0m\u001b[0mbutton\u001b[0m\u001b[1;33m)\u001b[0m\u001b[1;33m\u001b[0m\u001b[1;33m\u001b[0m\u001b[0m\n",
      "\u001b[1;31mTypeError\u001b[0m: on_click() takes 2 positional arguments but 3 were given"
     ]
    }
   ],
   "source": [
    "# Create a Title for the Dashboard\n",
    "create_input()"
   ]
  },
  {
   "cell_type": "code",
   "execution_count": null,
   "id": "dd286a75",
   "metadata": {},
   "outputs": [],
   "source": [
    "dashboard.servable()"
   ]
  },
  {
   "cell_type": "code",
   "execution_count": null,
   "id": "ae71a716",
   "metadata": {},
   "outputs": [],
   "source": []
  },
  {
   "cell_type": "code",
   "execution_count": null,
   "id": "c2e5c810",
   "metadata": {},
   "outputs": [],
   "source": [
    "pn.Row(pn.widgets.TextInput(value=\"Editable text\"), pn.pane.Markdown('Some markdown'))"
   ]
  },
  {
   "cell_type": "code",
   "execution_count": null,
   "id": "3b6ae3e8",
   "metadata": {},
   "outputs": [],
   "source": [
    "\n",
    "dashboard = pn.Row(pn.Column(title, welcome, user_input_data))\n",
    "\n",
    "dashboard.servable()"
   ]
  },
  {
   "cell_type": "code",
   "execution_count": 47,
   "id": "ade43ecf",
   "metadata": {},
   "outputs": [
    {
     "data": {
      "application/vnd.jupyter.widget-view+json": {
       "model_id": "b47914d9121043f4a806a3c9f47ef40b",
       "version_major": 2,
       "version_minor": 0
      },
      "text/plain": [
       "HBox(children=(VBox(children=(Dropdown(options=('BTC', 'ETH', 'BNB', 'ADA', 'DOGE', 'XRP', 'LINK', 'THETA', 'L…"
      ]
     },
     "metadata": {},
     "output_type": "display_data"
    }
   ],
   "source": [
    "range_of_cryptos = [\"BTC\", \"ETH\", \"BNB\", \"ADA\", \"DOGE\", \"XRP\", \"LINK\" , \"THETA\", \"LTC\", \"XLM\"]\n",
    "range_of_stocks = [\"AMZN\", \"TSLA\", \"NEO\", \"AAPL\", \"XPENG\", \"BABA\", \"SNPWR\", \"NFLX\", \"DIS\", \"NIKE\"]\n",
    "\n",
    "# Declare Witget input elements\n",
    "year_slider = widgets.IntSlider(min=0, max=3, step=1, description='Year of data:', value=3)\n",
    "dropdown_crypto = widgets.Dropdown(options = range_of_cryptos)\n",
    "dropdown_stock = widgets.Dropdown(options = range_of_stocks)\n",
    "\n",
    "\n",
    "input_crypto_box = widgets.VBox([dropdown_crypto, year_slider])\n",
    "input_stock_box = widgets.VBox([dropdown_stock, year_slider])\n",
    "\n",
    "input_box = widgets.HBox([input_crypto_box, input_stock_box])\n",
    "\n",
    "#output_crypto_box = widgets.VBox([dropdown_crypto.value])\n",
    "#output_stock_box = widgets.VBox([dropdown_stock, year_slider])\n",
    "\n",
    "\n",
    "\n",
    "input_box\n",
    "\n",
    "\n",
    "#output_crypto_box\n",
    "#output_box = widgets.HBox([output_crypto_box, output_stock_box])"
   ]
  },
  {
   "cell_type": "code",
   "execution_count": null,
   "id": "149a12e5",
   "metadata": {},
   "outputs": [],
   "source": [
    "btn = widgets.Button(description='Medium')\n",
    "display(btn)\n",
    "def btn_eventhandler():\n",
    "    print('Hello from the {} button!'.format(obj.description))\n",
    "\n",
    "btn.on_click(btn_eventhandler)"
   ]
  },
  {
   "cell_type": "code",
   "execution_count": null,
   "id": "e72ab79e",
   "metadata": {},
   "outputs": [],
   "source": [
    "#def get_crypto_data(crypto_ticker, crypto_year_slider:\n",
    "#    if crypto_year_slider.value == 1:\n",
    "#        download_data(crypto_ticker, calc_1years_backdate())\n",
    "#    elif crypto_year_slider.value == 2:\n",
    "#        download_data(crypto_ticker, calc_2years_backdate())\n",
    "#    else:\n",
    "#        download_data(crypto_ticker, calc_3years_backdate())"
   ]
  }
 ],
 "metadata": {
  "kernelspec": {
   "display_name": "Python [conda env:pyvizenv] *",
   "language": "python",
   "name": "conda-env-pyvizenv-py"
  },
  "language_info": {
   "codemirror_mode": {
    "name": "ipython",
    "version": 3
   },
   "file_extension": ".py",
   "mimetype": "text/x-python",
   "name": "python",
   "nbconvert_exporter": "python",
   "pygments_lexer": "ipython3",
   "version": "3.7.10"
  }
 },
 "nbformat": 4,
 "nbformat_minor": 5
}
