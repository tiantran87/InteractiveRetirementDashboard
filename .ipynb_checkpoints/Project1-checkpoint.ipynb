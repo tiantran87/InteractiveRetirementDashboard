{
 "cells": [
  {
   "cell_type": "code",
   "execution_count": 1,
   "id": "fb046fb4",
   "metadata": {},
   "outputs": [],
   "source": [
    "# Initial imports\n",
    "import warnings\n",
    "warnings.filterwarnings('ignore')\n",
    "import os\n",
    "import requests\n",
    "import pandas as pd\n",
    "import numpy as np\n",
    "from dotenv import load_dotenv\n",
    "import alpaca_trade_api as tradeapi\n",
    "from MCForecastTools import MCSimulation\n",
    "import json\n",
    "# Initialize the Panel Extensions (for Plotly)\n",
    "import plotly.express as px\n",
    "#import hvplot.pandas\n",
    "import matplotlib.pyplot as plt\n",
    "from pathlib import Path\n",
    "import ipywidgets as widgets\n",
    "from IPython.display import display\n",
    "%matplotlib inline\n",
    "#!pip install yfinance\n",
    "import yfinance as yf\n",
    "import datetime as dt\n",
    "\n",
    "#import panel as pn\n",
    "#pn.extension('plotly')"
   ]
  },
  {
   "cell_type": "code",
   "execution_count": 2,
   "id": "15c6ac46",
   "metadata": {},
   "outputs": [
    {
     "data": {
      "text/plain": [
       "True"
      ]
     },
     "execution_count": 2,
     "metadata": {},
     "output_type": "execute_result"
    }
   ],
   "source": [
    "# Load .env enviroment variables\n",
    "load_dotenv()"
   ]
  },
  {
   "cell_type": "code",
   "execution_count": 3,
   "id": "94b864bd",
   "metadata": {},
   "outputs": [
    {
     "name": "stdout",
     "output_type": "stream",
     "text": [
      "[*********************100%***********************]  1 of 1 completed\n"
     ]
    },
    {
     "data": {
      "text/html": [
       "<div>\n",
       "<style scoped>\n",
       "    .dataframe tbody tr th:only-of-type {\n",
       "        vertical-align: middle;\n",
       "    }\n",
       "\n",
       "    .dataframe tbody tr th {\n",
       "        vertical-align: top;\n",
       "    }\n",
       "\n",
       "    .dataframe thead th {\n",
       "        text-align: right;\n",
       "    }\n",
       "</style>\n",
       "<table border=\"1\" class=\"dataframe\">\n",
       "  <thead>\n",
       "    <tr style=\"text-align: right;\">\n",
       "      <th></th>\n",
       "      <th>Open</th>\n",
       "      <th>High</th>\n",
       "      <th>Low</th>\n",
       "      <th>Close</th>\n",
       "      <th>Adj Close</th>\n",
       "      <th>Volume</th>\n",
       "    </tr>\n",
       "    <tr>\n",
       "      <th>Date</th>\n",
       "      <th></th>\n",
       "      <th></th>\n",
       "      <th></th>\n",
       "      <th></th>\n",
       "      <th></th>\n",
       "      <th></th>\n",
       "    </tr>\n",
       "  </thead>\n",
       "  <tbody>\n",
       "    <tr>\n",
       "      <th>2018-12-31</th>\n",
       "      <td>3866.839111</td>\n",
       "      <td>3868.742920</td>\n",
       "      <td>3725.867432</td>\n",
       "      <td>3742.700439</td>\n",
       "      <td>3742.700439</td>\n",
       "      <td>4661840806</td>\n",
       "    </tr>\n",
       "    <tr>\n",
       "      <th>2019-01-01</th>\n",
       "      <td>3746.713379</td>\n",
       "      <td>3850.913818</td>\n",
       "      <td>3707.231201</td>\n",
       "      <td>3843.520020</td>\n",
       "      <td>3843.520020</td>\n",
       "      <td>4324200990</td>\n",
       "    </tr>\n",
       "    <tr>\n",
       "      <th>2019-01-02</th>\n",
       "      <td>3849.216309</td>\n",
       "      <td>3947.981201</td>\n",
       "      <td>3817.409424</td>\n",
       "      <td>3943.409424</td>\n",
       "      <td>3943.409424</td>\n",
       "      <td>5244856836</td>\n",
       "    </tr>\n",
       "    <tr>\n",
       "      <th>2019-01-03</th>\n",
       "      <td>3931.048584</td>\n",
       "      <td>3935.685059</td>\n",
       "      <td>3826.222900</td>\n",
       "      <td>3836.741211</td>\n",
       "      <td>3836.741211</td>\n",
       "      <td>4530215219</td>\n",
       "    </tr>\n",
       "    <tr>\n",
       "      <th>2019-01-04</th>\n",
       "      <td>3832.040039</td>\n",
       "      <td>3865.934570</td>\n",
       "      <td>3783.853760</td>\n",
       "      <td>3857.717529</td>\n",
       "      <td>3857.717529</td>\n",
       "      <td>4847965467</td>\n",
       "    </tr>\n",
       "    <tr>\n",
       "      <th>...</th>\n",
       "      <td>...</td>\n",
       "      <td>...</td>\n",
       "      <td>...</td>\n",
       "      <td>...</td>\n",
       "      <td>...</td>\n",
       "      <td>...</td>\n",
       "    </tr>\n",
       "    <tr>\n",
       "      <th>2021-06-30</th>\n",
       "      <td>35908.386719</td>\n",
       "      <td>36074.757812</td>\n",
       "      <td>34086.152344</td>\n",
       "      <td>35040.835938</td>\n",
       "      <td>35040.835938</td>\n",
       "      <td>34059036099</td>\n",
       "    </tr>\n",
       "    <tr>\n",
       "      <th>2021-07-01</th>\n",
       "      <td>35035.984375</td>\n",
       "      <td>35035.984375</td>\n",
       "      <td>32883.781250</td>\n",
       "      <td>33572.117188</td>\n",
       "      <td>33572.117188</td>\n",
       "      <td>37838957079</td>\n",
       "    </tr>\n",
       "    <tr>\n",
       "      <th>2021-07-02</th>\n",
       "      <td>33549.601562</td>\n",
       "      <td>33939.589844</td>\n",
       "      <td>32770.679688</td>\n",
       "      <td>33897.046875</td>\n",
       "      <td>33897.046875</td>\n",
       "      <td>38728974942</td>\n",
       "    </tr>\n",
       "    <tr>\n",
       "      <th>2021-07-03</th>\n",
       "      <td>33854.421875</td>\n",
       "      <td>34909.261719</td>\n",
       "      <td>33402.695312</td>\n",
       "      <td>34668.546875</td>\n",
       "      <td>34668.546875</td>\n",
       "      <td>24383958643</td>\n",
       "    </tr>\n",
       "    <tr>\n",
       "      <th>2021-07-05</th>\n",
       "      <td>34930.460938</td>\n",
       "      <td>34990.582031</td>\n",
       "      <td>34895.382812</td>\n",
       "      <td>34895.382812</td>\n",
       "      <td>34895.382812</td>\n",
       "      <td>25341362176</td>\n",
       "    </tr>\n",
       "  </tbody>\n",
       "</table>\n",
       "<p>913 rows × 6 columns</p>\n",
       "</div>"
      ],
      "text/plain": [
       "                    Open          High           Low         Close  \\\n",
       "Date                                                                 \n",
       "2018-12-31   3866.839111   3868.742920   3725.867432   3742.700439   \n",
       "2019-01-01   3746.713379   3850.913818   3707.231201   3843.520020   \n",
       "2019-01-02   3849.216309   3947.981201   3817.409424   3943.409424   \n",
       "2019-01-03   3931.048584   3935.685059   3826.222900   3836.741211   \n",
       "2019-01-04   3832.040039   3865.934570   3783.853760   3857.717529   \n",
       "...                  ...           ...           ...           ...   \n",
       "2021-06-30  35908.386719  36074.757812  34086.152344  35040.835938   \n",
       "2021-07-01  35035.984375  35035.984375  32883.781250  33572.117188   \n",
       "2021-07-02  33549.601562  33939.589844  32770.679688  33897.046875   \n",
       "2021-07-03  33854.421875  34909.261719  33402.695312  34668.546875   \n",
       "2021-07-05  34930.460938  34990.582031  34895.382812  34895.382812   \n",
       "\n",
       "               Adj Close       Volume  \n",
       "Date                                   \n",
       "2018-12-31   3742.700439   4661840806  \n",
       "2019-01-01   3843.520020   4324200990  \n",
       "2019-01-02   3943.409424   5244856836  \n",
       "2019-01-03   3836.741211   4530215219  \n",
       "2019-01-04   3857.717529   4847965467  \n",
       "...                  ...          ...  \n",
       "2021-06-30  35040.835938  34059036099  \n",
       "2021-07-01  33572.117188  37838957079  \n",
       "2021-07-02  33897.046875  38728974942  \n",
       "2021-07-03  34668.546875  24383958643  \n",
       "2021-07-05  34895.382812  25341362176  \n",
       "\n",
       "[913 rows x 6 columns]"
      ]
     },
     "execution_count": 3,
     "metadata": {},
     "output_type": "execute_result"
    }
   ],
   "source": [
    "# BTC API URLs\n",
    "start = dt.datetime(2019,1,1)\n",
    "end = dt.datetime.now()\n",
    "\n",
    "btc_df = yf.download('BTC-USD', start, end)\n",
    "btc_df = btc_df.dropna()\n",
    "btc_df"
   ]
  },
  {
   "cell_type": "code",
   "execution_count": 4,
   "id": "c6b5ce2e-05c1-4082-a827-f5e072aa7100",
   "metadata": {},
   "outputs": [
    {
     "data": {
      "text/html": [
       "<div>\n",
       "<style scoped>\n",
       "    .dataframe tbody tr th:only-of-type {\n",
       "        vertical-align: middle;\n",
       "    }\n",
       "\n",
       "    .dataframe tbody tr th {\n",
       "        vertical-align: top;\n",
       "    }\n",
       "\n",
       "    .dataframe thead th {\n",
       "        text-align: right;\n",
       "    }\n",
       "</style>\n",
       "<table border=\"1\" class=\"dataframe\">\n",
       "  <thead>\n",
       "    <tr style=\"text-align: right;\">\n",
       "      <th></th>\n",
       "      <th>Close</th>\n",
       "    </tr>\n",
       "    <tr>\n",
       "      <th>Date</th>\n",
       "      <th></th>\n",
       "    </tr>\n",
       "  </thead>\n",
       "  <tbody>\n",
       "    <tr>\n",
       "      <th>2018-12-31</th>\n",
       "      <td>3742.700439</td>\n",
       "    </tr>\n",
       "    <tr>\n",
       "      <th>2019-01-01</th>\n",
       "      <td>3843.520020</td>\n",
       "    </tr>\n",
       "    <tr>\n",
       "      <th>2019-01-02</th>\n",
       "      <td>3943.409424</td>\n",
       "    </tr>\n",
       "    <tr>\n",
       "      <th>2019-01-03</th>\n",
       "      <td>3836.741211</td>\n",
       "    </tr>\n",
       "    <tr>\n",
       "      <th>2019-01-04</th>\n",
       "      <td>3857.717529</td>\n",
       "    </tr>\n",
       "    <tr>\n",
       "      <th>2019-01-05</th>\n",
       "      <td>3845.194580</td>\n",
       "    </tr>\n",
       "    <tr>\n",
       "      <th>2019-01-06</th>\n",
       "      <td>4076.632568</td>\n",
       "    </tr>\n",
       "    <tr>\n",
       "      <th>2019-01-07</th>\n",
       "      <td>4025.248291</td>\n",
       "    </tr>\n",
       "    <tr>\n",
       "      <th>2019-01-08</th>\n",
       "      <td>4030.847900</td>\n",
       "    </tr>\n",
       "    <tr>\n",
       "      <th>2019-01-09</th>\n",
       "      <td>4035.296387</td>\n",
       "    </tr>\n",
       "  </tbody>\n",
       "</table>\n",
       "</div>"
      ],
      "text/plain": [
       "                  Close\n",
       "Date                   \n",
       "2018-12-31  3742.700439\n",
       "2019-01-01  3843.520020\n",
       "2019-01-02  3943.409424\n",
       "2019-01-03  3836.741211\n",
       "2019-01-04  3857.717529\n",
       "2019-01-05  3845.194580\n",
       "2019-01-06  4076.632568\n",
       "2019-01-07  4025.248291\n",
       "2019-01-08  4030.847900\n",
       "2019-01-09  4035.296387"
      ]
     },
     "execution_count": 4,
     "metadata": {},
     "output_type": "execute_result"
    }
   ],
   "source": [
    "btc_close_df = pd.DataFrame(btc_df['Close'])\n",
    "# Drop nulls\n",
    "btc_close_df.dropna()\n",
    "btc_close_df.isnull().sum()\n",
    "btc_close_df.head(10)"
   ]
  },
  {
   "cell_type": "code",
   "execution_count": 5,
   "id": "8944ffcd-e023-4284-94bc-9c31c3a30ff1",
   "metadata": {},
   "outputs": [
    {
     "data": {
      "text/html": [
       "<div>\n",
       "<style scoped>\n",
       "    .dataframe tbody tr th:only-of-type {\n",
       "        vertical-align: middle;\n",
       "    }\n",
       "\n",
       "    .dataframe tbody tr th {\n",
       "        vertical-align: top;\n",
       "    }\n",
       "\n",
       "    .dataframe thead th {\n",
       "        text-align: right;\n",
       "    }\n",
       "</style>\n",
       "<table border=\"1\" class=\"dataframe\">\n",
       "  <thead>\n",
       "    <tr style=\"text-align: right;\">\n",
       "      <th></th>\n",
       "      <th>Close</th>\n",
       "    </tr>\n",
       "    <tr>\n",
       "      <th>Date</th>\n",
       "      <th></th>\n",
       "    </tr>\n",
       "  </thead>\n",
       "  <tbody>\n",
       "    <tr>\n",
       "      <th>2018-12-31</th>\n",
       "      <td>NaN</td>\n",
       "    </tr>\n",
       "    <tr>\n",
       "      <th>2019-01-01</th>\n",
       "      <td>0.026938</td>\n",
       "    </tr>\n",
       "    <tr>\n",
       "      <th>2019-01-02</th>\n",
       "      <td>0.025989</td>\n",
       "    </tr>\n",
       "    <tr>\n",
       "      <th>2019-01-03</th>\n",
       "      <td>-0.027050</td>\n",
       "    </tr>\n",
       "    <tr>\n",
       "      <th>2019-01-04</th>\n",
       "      <td>0.005467</td>\n",
       "    </tr>\n",
       "  </tbody>\n",
       "</table>\n",
       "</div>"
      ],
      "text/plain": [
       "               Close\n",
       "Date                \n",
       "2018-12-31       NaN\n",
       "2019-01-01  0.026938\n",
       "2019-01-02  0.025989\n",
       "2019-01-03 -0.027050\n",
       "2019-01-04  0.005467"
      ]
     },
     "execution_count": 5,
     "metadata": {},
     "output_type": "execute_result"
    }
   ],
   "source": [
    "btc_close_df = btc_close_df.pct_change()\n",
    "btc_close_df.head()"
   ]
  },
  {
   "cell_type": "code",
   "execution_count": 7,
   "id": "31fbdbe6",
   "metadata": {},
   "outputs": [
    {
     "data": {
      "text/plain": [
       "Close    1.306697\n",
       "dtype: float64"
      ]
     },
     "execution_count": 7,
     "metadata": {},
     "output_type": "execute_result"
    }
   ],
   "source": [
    "# Functions \n",
    "# Sharpe Ratios\n",
    "## First, Calculate the annualized standard deviation (252 trading days)\n",
    "annualized_std = btc_close_df.std() * np.sqrt(252)\n",
    "annualized_std.head()\n",
    "\n",
    "# Annualized Sharpe Ratios\n",
    "btc_annual_sharpe_ratios = (btc_close_df.mean() * 252) / annualized_std\n",
    "btc_annual_sharpe_ratios\n",
    "\n",
    "#def create_bar_chart(data, title, xlabel, ylabel, color):\n",
    "\n",
    "\n",
    "#def annual_sharpe_ratios \n"
   ]
  },
  {
   "cell_type": "code",
   "execution_count": 8,
   "id": "ca9a8bd5-caed-470f-876f-e3835af7d8b2",
   "metadata": {},
   "outputs": [
    {
     "data": {
      "text/plain": [
       "<AxesSubplot:title={'center':'BTC Annualised Sharpe Ratio'}>"
      ]
     },
     "execution_count": 8,
     "metadata": {},
     "output_type": "execute_result"
    },
    {
     "data": {
      "image/png": "[encoded data removed]",
      "text/plain": [
       "<Figure size 1080x720 with 1 Axes>"
      ]
     },
     "metadata": {
      "needs_background": "light"
     },
     "output_type": "display_data"
    }
   ],
   "source": [
    "# Visualize the sharpe ratios as a bar plot\n",
    "btc_annual_sharpe_ratios.plot.bar(figsize=(15, 10), title=\"BTC Annualised Sharpe Ratio\", grid=True)"
   ]
  },
  {
   "cell_type": "code",
   "execution_count": null,
   "id": "5f34847c-db20-42ce-ba69-ccc3b666b6a9",
   "metadata": {},
   "outputs": [],
   "source": []
  }
 ],
 "metadata": {
  "kernelspec": {
   "display_name": "Python 3",
   "language": "python",
   "name": "python3"
  },
  "language_info": {
   "codemirror_mode": {
    "name": "ipython",
    "version": 3
   },
   "file_extension": ".py",
   "mimetype": "text/x-python",
   "name": "python",
   "nbconvert_exporter": "python",
   "pygments_lexer": "ipython3",
   "version": "3.7.10"
  }
 },
 "nbformat": 4,
 "nbformat_minor": 5
}
