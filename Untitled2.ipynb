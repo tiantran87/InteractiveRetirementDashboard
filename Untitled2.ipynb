{
 "cells": [
  {
   "cell_type": "code",
   "execution_count": null,
   "id": "2d75b209",
   "metadata": {},
   "outputs": [],
   "source": [
    "#Crypto Stock historical Data:\n",
    "crypto_input = pn.Column(crypto_ticker, crypto_year_slider, align='center')\n",
    "@pn.depends(crypto_ticker, crypto_year_slider)\n",
    "def reactive_crypto_MAchart(crypto_ticker, crypto_year_slider):\n",
    "    if crypto_year_slider == 1:\n",
    "        return MA_plot(crypto_df[crypto_ticker].loc[calc_1years_backdate():dt.datetime.now().date()])\n",
    "    elif crypto_year_slider == 2:\n",
    "        return MA_plot(crypto_df[crypto_ticker].loc[calc_2years_backdate():dt.datetime.now().date()])\n",
    "    else:\n",
    "        return MA_plot(crypto_df[crypto_ticker])\n",
    "crypto_column = pn.Column(crypto_input, reactive_crypto_MAchart)"
   ]
  }
 ],
 "metadata": {
  "kernelspec": {
   "display_name": "Python [conda env:pyvizenv] *",
   "language": "python",
   "name": "conda-env-pyvizenv-py"
  },
  "language_info": {
   "codemirror_mode": {
    "name": "ipython",
    "version": 3
   },
   "file_extension": ".py",
   "mimetype": "text/x-python",
   "name": "python",
   "nbconvert_exporter": "python",
   "pygments_lexer": "ipython3",
   "version": "3.7.10"
  }
 },
 "nbformat": 4,
 "nbformat_minor": 5
}
