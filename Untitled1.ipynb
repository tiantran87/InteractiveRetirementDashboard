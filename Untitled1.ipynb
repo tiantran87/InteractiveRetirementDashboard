{
 "cells": [
  {
   "cell_type": "code",
   "execution_count": 1,
   "id": "41f2e351",
   "metadata": {},
   "outputs": [
    {
     "data": {
      "text/html": [
       "<div>\n",
       "<style scoped>\n",
       "    .dataframe tbody tr th:only-of-type {\n",
       "        vertical-align: middle;\n",
       "    }\n",
       "\n",
       "    .dataframe tbody tr th {\n",
       "        vertical-align: top;\n",
       "    }\n",
       "\n",
       "    .dataframe thead th {\n",
       "        text-align: right;\n",
       "    }\n",
       "</style>\n",
       "<table border=\"1\" class=\"dataframe\">\n",
       "  <thead>\n",
       "    <tr style=\"text-align: right;\">\n",
       "      <th></th>\n",
       "      <th>Open</th>\n",
       "      <th>High</th>\n",
       "      <th>Low</th>\n",
       "      <th>Close</th>\n",
       "      <th>Adj Close</th>\n",
       "      <th>Volume</th>\n",
       "    </tr>\n",
       "    <tr>\n",
       "      <th>Date</th>\n",
       "      <th></th>\n",
       "      <th></th>\n",
       "      <th></th>\n",
       "      <th></th>\n",
       "      <th></th>\n",
       "      <th></th>\n",
       "    </tr>\n",
       "  </thead>\n",
       "  <tbody>\n",
       "    <tr>\n",
       "      <th>2018-12-31</th>\n",
       "      <td>67.557999</td>\n",
       "      <td>67.842003</td>\n",
       "      <td>65.052002</td>\n",
       "      <td>66.559998</td>\n",
       "      <td>66.559998</td>\n",
       "      <td>31511500</td>\n",
       "    </tr>\n",
       "    <tr>\n",
       "      <th>2019-01-02</th>\n",
       "      <td>61.220001</td>\n",
       "      <td>63.026001</td>\n",
       "      <td>59.759998</td>\n",
       "      <td>62.023998</td>\n",
       "      <td>62.023998</td>\n",
       "      <td>58293000</td>\n",
       "    </tr>\n",
       "    <tr>\n",
       "      <th>2019-01-03</th>\n",
       "      <td>61.400002</td>\n",
       "      <td>61.880001</td>\n",
       "      <td>59.476002</td>\n",
       "      <td>60.071999</td>\n",
       "      <td>60.071999</td>\n",
       "      <td>34826000</td>\n",
       "    </tr>\n",
       "    <tr>\n",
       "      <th>2019-01-04</th>\n",
       "      <td>61.200001</td>\n",
       "      <td>63.599998</td>\n",
       "      <td>60.546001</td>\n",
       "      <td>63.537998</td>\n",
       "      <td>63.537998</td>\n",
       "      <td>36970500</td>\n",
       "    </tr>\n",
       "    <tr>\n",
       "      <th>2019-01-07</th>\n",
       "      <td>64.344002</td>\n",
       "      <td>67.348000</td>\n",
       "      <td>63.549999</td>\n",
       "      <td>66.991997</td>\n",
       "      <td>66.991997</td>\n",
       "      <td>37756000</td>\n",
       "    </tr>\n",
       "  </tbody>\n",
       "</table>\n",
       "</div>"
      ],
      "text/plain": [
       "                 Open       High        Low      Close  Adj Close    Volume\n",
       "Date                                                                       \n",
       "2018-12-31  67.557999  67.842003  65.052002  66.559998  66.559998  31511500\n",
       "2019-01-02  61.220001  63.026001  59.759998  62.023998  62.023998  58293000\n",
       "2019-01-03  61.400002  61.880001  59.476002  60.071999  60.071999  34826000\n",
       "2019-01-04  61.200001  63.599998  60.546001  63.537998  63.537998  36970500\n",
       "2019-01-07  64.344002  67.348000  63.549999  66.991997  66.991997  37756000"
      ]
     },
     "execution_count": 1,
     "metadata": {},
     "output_type": "execute_result"
    }
   ],
   "source": [
    "import pandas as pd\n",
    "import yfinance as yf\n",
    "from yahoofinancials import YahooFinancials\n",
    "\n",
    "tsla_df = yf.download('TSLA', \n",
    "                      start='2019-01-01', \n",
    "                      end='2019-12-31', \n",
    "                      progress=False)\n",
    "tsla_df.head()"
   ]
  },
  {
   "cell_type": "code",
   "execution_count": 6,
   "id": "25a30648",
   "metadata": {},
   "outputs": [
    {
     "name": "stdout",
     "output_type": "stream",
     "text": [
      "Requirement already satisfied: yfinance in c:\\users\\tuana\\anaconda3\\envs\\pyvizenv\\lib\\site-packages (0.1.62)\n",
      "Requirement already satisfied: pandas>=0.24 in c:\\users\\tuana\\anaconda3\\envs\\pyvizenv\\lib\\site-packages (from yfinance) (1.1.5)\n",
      "Requirement already satisfied: multitasking>=0.0.7 in c:\\users\\tuana\\anaconda3\\envs\\pyvizenv\\lib\\site-packages (from yfinance) (0.0.9)\n",
      "Requirement already satisfied: requests>=2.20 in c:\\users\\tuana\\anaconda3\\envs\\pyvizenv\\lib\\site-packages (from yfinance) (2.25.1)\n",
      "Requirement already satisfied: numpy>=1.15 in c:\\users\\tuana\\anaconda3\\envs\\pyvizenv\\lib\\site-packages (from yfinance) (1.16.5)\n",
      "Requirement already satisfied: lxml>=4.5.1 in c:\\users\\tuana\\anaconda3\\envs\\pyvizenv\\lib\\site-packages (from yfinance) (4.6.3)\n",
      "Requirement already satisfied: pytz>=2017.2 in c:\\users\\tuana\\anaconda3\\envs\\pyvizenv\\lib\\site-packages (from pandas>=0.24->yfinance) (2021.1)\n",
      "Requirement already satisfied: python-dateutil>=2.7.3 in c:\\users\\tuana\\anaconda3\\envs\\pyvizenv\\lib\\site-packages (from pandas>=0.24->yfinance) (2.8.1)\n",
      "Requirement already satisfied: six>=1.5 in c:\\users\\tuana\\anaconda3\\envs\\pyvizenv\\lib\\site-packages (from python-dateutil>=2.7.3->pandas>=0.24->yfinance) (1.15.0)\n",
      "Requirement already satisfied: certifi>=2017.4.17 in c:\\users\\tuana\\anaconda3\\envs\\pyvizenv\\lib\\site-packages (from requests>=2.20->yfinance) (2021.5.30)\n",
      "Requirement already satisfied: urllib3<1.27,>=1.21.1 in c:\\users\\tuana\\anaconda3\\envs\\pyvizenv\\lib\\site-packages (from requests>=2.20->yfinance) (1.26.4)\n",
      "Requirement already satisfied: chardet<5,>=3.0.2 in c:\\users\\tuana\\anaconda3\\envs\\pyvizenv\\lib\\site-packages (from requests>=2.20->yfinance) (4.0.0)\n",
      "Requirement already satisfied: idna<3,>=2.5 in c:\\users\\tuana\\anaconda3\\envs\\pyvizenv\\lib\\site-packages (from requests>=2.20->yfinance) (2.10)\n"
     ]
    }
   ],
   "source": [
    "!pip install yfinance --upgrade"
   ]
  },
  {
   "cell_type": "code",
   "execution_count": null,
   "id": "0d966600",
   "metadata": {},
   "outputs": [],
   "source": []
  }
 ],
 "metadata": {
  "kernelspec": {
   "display_name": "Python [conda env:pyvizenv] *",
   "language": "python",
   "name": "conda-env-pyvizenv-py"
  },
  "language_info": {
   "codemirror_mode": {
    "name": "ipython",
    "version": 3
   },
   "file_extension": ".py",
   "mimetype": "text/x-python",
   "name": "python",
   "nbconvert_exporter": "python",
   "pygments_lexer": "ipython3",
   "version": "3.7.10"
  }
 },
 "nbformat": 4,
 "nbformat_minor": 5
}
